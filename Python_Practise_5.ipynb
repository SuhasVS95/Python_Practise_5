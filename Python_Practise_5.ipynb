{
 "cells": [
  {
   "cell_type": "markdown",
   "metadata": {},
   "source": [
    "# Write a function to print Prime numbers from num1 to num2 and return count"
   ]
  },
  {
   "cell_type": "code",
   "execution_count": 1,
   "metadata": {},
   "outputs": [
    {
     "name": "stdout",
     "output_type": "stream",
     "text": [
      "Enter firt number num1 > 2:10\n",
      "Enter second number num2:20\n",
      "Count of prime numbers is between num1 and num2 is 4\n",
      "The prime numbers between num1 and num2 is\n",
      "11\n",
      "13\n",
      "17\n",
      "19\n"
     ]
    }
   ],
   "source": [
    "def printprimenumbers():\n",
    "    \n",
    "    num1=int(input(\"Enter firt number num1 > 2:\"))\n",
    "    num2=int(input(\"Enter second number num2:\"))\n",
    "   \n",
    "    prime_container=[]\n",
    "    \n",
    "    for i in range(num1,num2):\n",
    "        for l in range(2,i):\n",
    "            \n",
    "            if i%l==0:\n",
    "                \n",
    "                #print(\"The number\",i,\"is divisible by \",l,\"and hence not a Prime\")\n",
    "                #print(i,\"is times\",i//l,l)\n",
    "                #non_prime.append(i)\n",
    "                break\n",
    "        \n",
    "        else:\n",
    "                \n",
    "                l=2           \n",
    "                while(i%l!=0):\n",
    "                    #print(\"The number\",i,\"divided by\",l,\"is\",i/l,\"not equal to 0 hence is Prime\")\n",
    "                    prime_container.append(i)\n",
    "                    l=l+1\n",
    "              \n",
    "                    break\n",
    "                    \n",
    "               \n",
    "    set_a=set(prime_container)\n",
    "    z=list(set_a)\n",
    "    x=sorted(z)\n",
    "    print(\"Count of prime numbers is between num1 and num2 is\",len(z))\n",
    "    \n",
    "    #print(\"The count of prime numbers between num1 and num2 is:\",count)\n",
    "    print(\"The prime numbers between num1 and num2 is\")\n",
    "    #print(set_a)\n",
    "   # print(set_b)\n",
    "\n",
    "    for items in x:\n",
    "        print(items)\n",
    "printprimenumbers()        "
   ]
  },
  {
   "cell_type": "markdown",
   "metadata": {},
   "source": [
    "# You are given with a list of integer elements. Make a new list which will store square of elements of previous list."
   ]
  },
  {
   "cell_type": "code",
   "execution_count": 16,
   "metadata": {},
   "outputs": [
    {
     "name": "stdout",
     "output_type": "stream",
     "text": [
      "The list of sqaured integers of list a is:\n",
      " [1, 4, 9, 16, 25]\n"
     ]
    }
   ],
   "source": [
    "a=[1,2,3,4,5]\n",
    "b=[]\n",
    "\n",
    "i=0\n",
    "while(i<len(a)):\n",
    "    b.append(a[i]**2)\n",
    "    i=i+1\n",
    "\n",
    "print(\"The list of sqaured integers of list a is:\\n\",b)"
   ]
  },
  {
   "cell_type": "markdown",
   "metadata": {},
   "source": [
    "# From a list containing ints, strings and floats, make three lists to store them separately\n"
   ]
  },
  {
   "cell_type": "code",
   "execution_count": 5,
   "metadata": {},
   "outputs": [
    {
     "name": "stdout",
     "output_type": "stream",
     "text": [
      "Seperated Int list [1, 2, 3, 4, 5, 6]\n",
      "Seperated str list ['a', 'b', 'c', 'd']\n",
      "Seperated float list [2.5, 6.78, 8.9]\n"
     ]
    }
   ],
   "source": [
    "a=[1,2,3,4,5,6,\"a\",\"b\",\"c\",\"d\",2.5,6.78,8.9]\n",
    "il=[]\n",
    "sl=[]\n",
    "fl=[]\n",
    "\n",
    "i=0\n",
    "\n",
    "while(i<=(len(a)-1)):\n",
    "    if type(a[i])==int:\n",
    "        il.append(a[i])\n",
    "    elif type(a[i])==str:\n",
    "        sl.append(a[i])\n",
    "    elif type(a[i])==float:\n",
    "        fl.append(a[i])\n",
    "    i=i+1\n",
    "        \n",
    "print(\"Seperated Int list\",il)\n",
    "print(\"Seperated str list\",sl)\n",
    "print(\"Seperated float list\",fl)"
   ]
  },
  {
   "cell_type": "markdown",
   "metadata": {},
   "source": [
    "# Write a Python program that prints all the numbers from 0 to 100 except multiple of 3 and 5"
   ]
  },
  {
   "cell_type": "code",
   "execution_count": 22,
   "metadata": {},
   "outputs": [
    {
     "name": "stdout",
     "output_type": "stream",
     "text": [
      "1\n",
      "2\n",
      "4\n",
      "7\n",
      "8\n",
      "11\n",
      "13\n",
      "14\n",
      "16\n",
      "17\n",
      "19\n",
      "22\n",
      "23\n",
      "26\n",
      "28\n",
      "29\n",
      "31\n",
      "32\n",
      "34\n",
      "37\n",
      "38\n",
      "41\n",
      "43\n",
      "44\n",
      "46\n",
      "47\n",
      "49\n",
      "52\n",
      "53\n",
      "56\n",
      "58\n",
      "59\n",
      "61\n",
      "62\n",
      "64\n",
      "67\n",
      "68\n",
      "71\n",
      "73\n",
      "74\n",
      "76\n",
      "77\n",
      "79\n",
      "82\n",
      "83\n",
      "86\n",
      "88\n",
      "89\n",
      "91\n",
      "92\n",
      "94\n",
      "97\n",
      "98\n"
     ]
    }
   ],
   "source": [
    "i=0\n",
    "\n",
    "while(i<=100):\n",
    "    if i%3!=0:\n",
    "        if i%5!=0:\n",
    "            print(i)\n",
    "    i=i+1\n",
    "        "
   ]
  },
  {
   "cell_type": "markdown",
   "metadata": {},
   "source": [
    "# Write a Python program to get the Fibonacci series between 0 to 50"
   ]
  },
  {
   "cell_type": "markdown",
   "metadata": {},
   "source": [
    "0,1,1,2,3,5,8,12...."
   ]
  },
  {
   "cell_type": "code",
   "execution_count": null,
   "metadata": {},
   "outputs": [],
   "source": [
    "c=[0,1]\n",
    "i=2\n",
    "num1=50\n",
    "while i<=num1:\n",
    "    c.append(c[i-1]+c[i-2])\n",
    "    i=i+1\n",
    "#print(c)\n",
    "\n",
    "for it in c:\n",
    "    print(it)"
   ]
  },
  {
   "cell_type": "markdown",
   "metadata": {},
   "source": [
    "# Write a python program to count the number of vowels in a user input string"
   ]
  },
  {
   "cell_type": "code",
   "execution_count": 36,
   "metadata": {},
   "outputs": [
    {
     "name": "stdout",
     "output_type": "stream",
     "text": [
      "Enter the String:ROhIt\n",
      "Vowels:\n",
      "O\n",
      "I\n",
      "Count of vowels in the string: 2\n"
     ]
    }
   ],
   "source": [
    "v=\"aeiouAEIOU\"\n",
    "\n",
    "s=input(\"Enter the String:\")\n",
    "count=0\n",
    "print(\"Vowels:\")\n",
    "for i in s:\n",
    "    for k in v:\n",
    "        \n",
    "        if k==i:\n",
    "            \n",
    "            print(i)\n",
    "            count=count+1\n",
    "print(\"Count of vowels in the string:\",count)\n",
    "    \n",
    "    "
   ]
  },
  {
   "cell_type": "markdown",
   "metadata": {},
   "source": [
    "# Create a program that will keep track of items for a shopping list.\n",
    "a) The program should keep asking for new items until “endshopping” is entered.\n",
    "b) The program should then display the full shopping list.\n",
    "c) Test the above program for 5,8 and 10 items."
   ]
  },
  {
   "cell_type": "code",
   "execution_count": 2,
   "metadata": {},
   "outputs": [
    {
     "name": "stdout",
     "output_type": "stream",
     "text": [
      "Enter the Item:s\n",
      "Enter the Item:s\n",
      "Enter the Item:s\n",
      "Enter the Item:s\n",
      "Enter the Item:s\n",
      "Enter the Item:s\n",
      "Enter the Item:endshopping\n",
      "['s', 's', 's', 's', 's', 's', 'endshopping']\n"
     ]
    }
   ],
   "source": [
    "i=0\n",
    "c=[]\n",
    "while(i<5):\n",
    "    \n",
    "    a=input(\"Enter the Item:\")\n",
    "    c.append(a)\n",
    "    if a==\"endshopping\":\n",
    "        break\n",
    "    \n",
    "print(c)\n",
    "    \n",
    "    "
   ]
  },
  {
   "cell_type": "markdown",
   "metadata": {},
   "source": [
    "# Create a function that will ask the user for a number and then print out a list of numbers from 1 to the number entered and the square of the number.\n",
    "a) For example, if the user entered '3' then the program would output:\n",
    "b) 1 squared is 1.\n",
    "c) 2 squared is 4.\n",
    "d) 3 squared is 9\n"
   ]
  },
  {
   "cell_type": "code",
   "execution_count": 3,
   "metadata": {},
   "outputs": [
    {
     "name": "stdout",
     "output_type": "stream",
     "text": [
      "Enter the number3\n",
      "1 sqaured is 1\n",
      "2 sqaured is 4\n",
      "3 sqaured is 9\n"
     ]
    }
   ],
   "source": [
    "def prsqare():\n",
    "    a=int(input(\"Enter the number\"))\n",
    "    i=1\n",
    "    while i<=a:\n",
    "        print(i,\"sqaured is\",i**2)\n",
    "        i=i+1\n",
    "prsqare()"
   ]
  },
  {
   "cell_type": "markdown",
   "metadata": {},
   "source": [
    "# Define a function called fnStringMirror:\n",
    "a) This function will get an input string as a parameter and returns its mirror image.\n",
    "b) For e.g if input string is “blue”, the mirror image is “blueeulb”"
   ]
  },
  {
   "cell_type": "code",
   "execution_count": 23,
   "metadata": {},
   "outputs": [
    {
     "name": "stdout",
     "output_type": "stream",
     "text": [
      "String input:blue\n"
     ]
    },
    {
     "data": {
      "text/plain": [
       "'blueeulb'"
      ]
     },
     "execution_count": 23,
     "metadata": {},
     "output_type": "execute_result"
    }
   ],
   "source": [
    "m=''\n",
    "s=input(\"String input:\")\n",
    "i=0\n",
    "while i<=len(s)-1:\n",
    "    m=m+s[i]\n",
    "    i=i+1\n",
    "m\n",
    "\n",
    "k=len(s)-1\n",
    "while k>=0:\n",
    "    m=m+s[k]\n",
    "    k=k-1\n",
    "m"
   ]
  }
 ],
 "metadata": {
  "kernelspec": {
   "display_name": "Python 3",
   "language": "python",
   "name": "python3"
  },
  "language_info": {
   "codemirror_mode": {
    "name": "ipython",
    "version": 3
   },
   "file_extension": ".py",
   "mimetype": "text/x-python",
   "name": "python",
   "nbconvert_exporter": "python",
   "pygments_lexer": "ipython3",
   "version": "3.7.6"
  }
 },
 "nbformat": 4,
 "nbformat_minor": 4
}
